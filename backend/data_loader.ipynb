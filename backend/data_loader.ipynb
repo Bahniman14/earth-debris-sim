{
 "cells": [
  {
   "cell_type": "code",
   "execution_count": 11,
   "id": "0a7646d6-c0cc-4cba-9c36-c8cee75fad0b",
   "metadata": {},
   "outputs": [
    {
     "name": "stdout",
     "output_type": "stream",
     "text": [
      "✅ Cleaned DataFrame loaded successfully!\n",
      "Number of objects: 14372\n"
     ]
    }
   ],
   "source": [
    "# Load necessary libraries\n",
    "import pandas as pd\n",
    "import os\n",
    "\n",
    "# Define the file path\n",
    "pkl_path = 'data/cleaned_space_decay.pkl'\n",
    "\n",
    "# Check if file exists\n",
    "if os.path.exists(pkl_path):\n",
    "    sdf = pd.read_pickle(pkl_path)\n",
    "    print(\"✅ Cleaned DataFrame loaded successfully!\")\n",
    "    print(\"Number of objects:\", len(sdf))\n",
    "else:\n",
    "    print(\"❌ Pickle file not found. Please run data_cleaner.ipynb first.\")\n"
   ]
  },
  {
   "cell_type": "code",
   "execution_count": 12,
   "id": "439d3629-655b-4e76-9ded-76814a05658d",
   "metadata": {},
   "outputs": [
    {
     "data": {
      "text/plain": [
       "CCSDS_OMM_VERS                                                         2\n",
       "COMMENT                                GENERATED VIA SPACE-TRACK.ORG API\n",
       "CREATION_DATE                                        2021-11-01T06:46:11\n",
       "ORIGINATOR                                                       18 SPCS\n",
       "OBJECT_NAME                                              ARIANE 42P+ DEB\n",
       "OBJECT_ID                                                      1992-072J\n",
       "CENTER_NAME                                                        EARTH\n",
       "REF_FRAME                                                           TEME\n",
       "TIME_SYSTEM                                                          UTC\n",
       "MEAN_ELEMENT_THEORY                                                 SGP4\n",
       "EPOCH                                         2021-10-31T22:46:50.340864\n",
       "MEAN_MOTION                                                       2.9217\n",
       "ECCENTRICITY                                                    0.652893\n",
       "INCLINATION                                                       7.7156\n",
       "RA_OF_ASC_NODE                                                    90.241\n",
       "ARG_OF_PERICENTER                                               243.1216\n",
       "MEAN_ANOMALY                                                     38.7796\n",
       "EPHEMERIS_TYPE                                                         0\n",
       "CLASSIFICATION_TYPE                                                    U\n",
       "NORAD_CAT_ID                                                       26741\n",
       "ELEMENT_SET_NO                                                       999\n",
       "REV_AT_EPOCH                                                       23588\n",
       "BSTAR                                                           0.024341\n",
       "MEAN_MOTION_DOT                                                 0.000009\n",
       "MEAN_MOTION_DDOT                                                     0.0\n",
       "SEMIMAJOR_AXIS                                                 20668.618\n",
       "PERIOD                                                           492.864\n",
       "APOAPSIS                                                       27784.871\n",
       "PERIAPSIS                                                        796.095\n",
       "OBJECT_TYPE                                                       DEBRIS\n",
       "RCS_SIZE                                                          MEDIUM\n",
       "COUNTRY_CODE                                                          FR\n",
       "LAUNCH_DATE                                                       1992.0\n",
       "SITE                                                               FRGUI\n",
       "DECAY_DATE                                                           NaT\n",
       "FILE                                                             3195178\n",
       "GP_ID                                                          188614016\n",
       "TLE_LINE0                                              0 ARIANE 42P+ DEB\n",
       "TLE_LINE1              1 26741U 92072J   21304.94919376  .00000883  0...\n",
       "TLE_LINE2              2 26741   7.7156  90.2410 6528926 243.1216  38...\n",
       "Name: 0, dtype: object"
      ]
     },
     "execution_count": 12,
     "metadata": {},
     "output_type": "execute_result"
    }
   ],
   "source": [
    "sample = sdf.iloc[0]\n",
    "sample"
   ]
  },
  {
   "cell_type": "code",
   "execution_count": 13,
   "id": "294a2862-111a-436f-8221-c5246b9425c6",
   "metadata": {},
   "outputs": [],
   "source": [
    "from skyfield.api import load, EarthSatellite\n",
    "\n",
    "# Step 1: Load timescale\n",
    "ts = load.timescale()\n",
    "\n",
    "# Step 2: Extract TLE lines from sample\n",
    "line1 = sample['TLE_LINE1']\n",
    "line2 = sample['TLE_LINE2']\n",
    "name = sample['OBJECT_NAME']\n",
    "\n",
    "# Step 3: Create the satellite object\n",
    "satellite = EarthSatellite(line1, line2, name, ts)\n"
   ]
  },
  {
   "cell_type": "code",
   "execution_count": 14,
   "id": "af9dc31b-995c-4a66-8b51-c11adfb5a178",
   "metadata": {},
   "outputs": [
    {
     "data": {
      "text/plain": [
       "<EarthSatellite ARIANE 42P+ DEB catalog #26741 epoch 2021-10-31 22:46:50 UTC>"
      ]
     },
     "execution_count": 14,
     "metadata": {},
     "output_type": "execute_result"
    }
   ],
   "source": [
    "satellite"
   ]
  },
  {
   "cell_type": "code",
   "execution_count": 15,
   "id": "272c99a3-8f2e-4be6-bbf1-f68fcb699c1c",
   "metadata": {},
   "outputs": [
    {
     "name": "stdout",
     "output_type": "stream",
     "text": [
      "<Geocentric ICRS position and velocity at date t center=399 target=-126741>\n"
     ]
    }
   ],
   "source": [
    "# Get current time or specific time range\n",
    "t = ts.now()  # current UTC time\n",
    "geocentric = satellite.at(t)  # Returns a Geocentric position\n",
    "print(geocentric)"
   ]
  },
  {
   "cell_type": "code",
   "execution_count": 16,
   "id": "47a23c84-6739-437a-bfe8-e46162006a29",
   "metadata": {},
   "outputs": [
    {
     "name": "stdout",
     "output_type": "stream",
     "text": [
      "ECI Position (km): [  669.4456167  25720.7167754  -4019.61801687]\n",
      "Latitude: -8.888011169806774\n",
      "Longitude: 87.27849568791179\n",
      "Altitude (km): 19663.892116256364\n"
     ]
    }
   ],
   "source": [
    "# Position in ECI frame (Earth-Centered Inertial)\n",
    "position = geocentric.position.km  # [x, y, z] in kilometers\n",
    "print(\"ECI Position (km):\", position)\n",
    "\n",
    "# Convert to Lat-Long-Altitude\n",
    "subpoint = geocentric.subpoint()\n",
    "print(\"Latitude:\", subpoint.latitude.degrees)\n",
    "print(\"Longitude:\", subpoint.longitude.degrees)\n",
    "print(\"Altitude (km):\", subpoint.elevation.km)\n"
   ]
  },
  {
   "cell_type": "code",
   "execution_count": 17,
   "id": "557cb4d3-42eb-4482-a5bf-800541bc8ae5",
   "metadata": {},
   "outputs": [
    {
     "name": "stdout",
     "output_type": "stream",
     "text": [
      "Object No.0, Name: ARIANE 42P+ DEB, Position : {'ECI Position (km)': array([  669.2739968 , 25720.59445794, -4019.59456699]), 'Latitude': np.float64(-8.888004222232372), 'Longitude': np.float64(87.27860632950176), 'Altitude': np.float64(19663.763273966484)} \n",
      "\n",
      "Object No.1, Name: SL-8 DEB, Position : {'ECI Position (km)': array([ 3541.44093746,  2824.81076569, -5834.4454539 ]), 'Latitude': np.float64(-52.22179693121349), 'Longitude': np.float64(37.25728656628265), 'Altitude': np.float64(1021.8024497582651)} \n",
      "\n",
      "Object No.2, Name: GSAT 1, Position : {'ECI Position (km)': array([24932.47261409, 32768.60711612,  6733.50379038]), 'Latitude': np.float64(9.384213713858292), 'Longitude': np.float64(51.54330288239114), 'Altitude': np.float64(35344.72517018785)} \n",
      "\n"
     ]
    }
   ],
   "source": [
    "def get_position(sample_object): \n",
    "    line1 = sample_object['TLE_LINE1']\n",
    "    line2 = sample_object['TLE_LINE2']\n",
    "    name = sample_object['OBJECT_NAME']\n",
    "    ts = load.timescale()\n",
    "    sample_satellite = EarthSatellite(line1, line2, name, ts)\n",
    "    time_now = ts.now()\n",
    "    geocentric = sample_satellite.at(time_now)\n",
    "    subpoint = geocentric.subpoint()\n",
    "    satallite_position = {\n",
    "        'ECI Position (km)': geocentric.position.km,\n",
    "        'Latitude': subpoint.latitude.degrees,\n",
    "        'Longitude': subpoint.longitude.degrees,\n",
    "        'Altitude': subpoint.elevation.km\n",
    "    }\n",
    "    return satallite_position\n",
    "\n",
    "\n",
    "for i in range(0,3):\n",
    "    sample_object= sdf.iloc[i]\n",
    "    print(f\"Object No.{i}, Name: {sample_object['OBJECT_NAME']}, Position : {get_position(sample_object)} \", end =\"\\n\\n\")"
   ]
  },
  {
   "cell_type": "code",
   "execution_count": 19,
   "id": "c0035673-e1d0-487b-a5ae-f84468b11b11",
   "metadata": {},
   "outputs": [
    {
     "name": "stdout",
     "output_type": "stream",
     "text": [
      "Columns in dataset: Index(['CCSDS_OMM_VERS', 'COMMENT', 'CREATION_DATE', 'ORIGINATOR',\n",
      "       'OBJECT_NAME', 'OBJECT_ID', 'CENTER_NAME', 'REF_FRAME', 'TIME_SYSTEM',\n",
      "       'MEAN_ELEMENT_THEORY', 'EPOCH', 'MEAN_MOTION', 'ECCENTRICITY',\n",
      "       'INCLINATION', 'RA_OF_ASC_NODE', 'ARG_OF_PERICENTER', 'MEAN_ANOMALY',\n",
      "       'EPHEMERIS_TYPE', 'CLASSIFICATION_TYPE', 'NORAD_CAT_ID',\n",
      "       'ELEMENT_SET_NO', 'REV_AT_EPOCH', 'BSTAR', 'MEAN_MOTION_DOT',\n",
      "       'MEAN_MOTION_DDOT', 'SEMIMAJOR_AXIS', 'PERIOD', 'APOAPSIS', 'PERIAPSIS',\n",
      "       'OBJECT_TYPE', 'RCS_SIZE', 'COUNTRY_CODE', 'LAUNCH_DATE', 'SITE',\n",
      "       'DECAY_DATE', 'FILE', 'GP_ID', 'TLE_LINE0', 'TLE_LINE1', 'TLE_LINE2'],\n",
      "      dtype='object')\n",
      "\n",
      "Unique Object Types:\n",
      "OBJECT_TYPE\n",
      "DEBRIS         8431\n",
      "PAYLOAD        4950\n",
      "ROCKET BODY     744\n",
      "TBA             247\n",
      "Name: count, dtype: int64\n",
      "\n",
      "Total objects: 14372\n",
      "Total debris objects: 8431\n",
      "Percentage of debris: 58.66%\n"
     ]
    }
   ],
   "source": [
    "\n",
    "\n",
    "# Check which columns are available\n",
    "print(\"Columns in dataset:\", sdf.columns)\n",
    "\n",
    "# Inspect unique values in the OBJECT_TYPE column\n",
    "print(\"\\nUnique Object Types:\")\n",
    "print(sdf[\"OBJECT_TYPE\"].value_counts())\n",
    "\n",
    "# Filter to get only debris\n",
    "debris_sdf = sdf[sdf[\"OBJECT_TYPE\"].str.upper().str.contains(\"DEBRIS\")]\n",
    "\n",
    "print(f\"\\nTotal objects: {len(sdf)}\")\n",
    "print(f\"Total debris objects: {len(debris_sdf)}\")\n",
    "print(f\"Percentage of debris: {len(debris_sdf) / len(sdf) * 100:.2f}%\")\n"
   ]
  }
 ],
 "metadata": {
  "kernelspec": {
   "display_name": "spaceenv",
   "language": "python",
   "name": "python3"
  },
  "language_info": {
   "codemirror_mode": {
    "name": "ipython",
    "version": 3
   },
   "file_extension": ".py",
   "mimetype": "text/x-python",
   "name": "python",
   "nbconvert_exporter": "python",
   "pygments_lexer": "ipython3",
   "version": "3.13.2"
  }
 },
 "nbformat": 4,
 "nbformat_minor": 5
}
